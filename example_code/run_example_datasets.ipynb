{
 "cells": [
  {
   "cell_type": "markdown",
   "metadata": {},
   "source": [
    "# Running REPRISAL on iPRG2015 and iPRG2016 Datasets"
   ]
  },
  {
   "cell_type": "code",
   "execution_count": 5,
   "metadata": {},
   "outputs": [],
   "source": [
    "from protein_inference.protein_inference_runner import ProteinInferenceRunner"
   ]
  },
  {
   "cell_type": "code",
   "execution_count": 6,
   "metadata": {},
   "outputs": [
    {
     "name": "stdout",
     "output_type": "stream",
     "text": [
      "Loading data...\n",
      "Scoring Decoys...\n",
      "Scoring Targets...\n",
      "Estimating False Discovery Rates...\n"
     ]
    },
    {
     "name": "stderr",
     "output_type": "stream",
     "text": [
      "/opt/anaconda3/envs/protein-inference/lib/python3.8/site-packages/pandas/core/indexing.py:1596: SettingWithCopyWarning: \n",
      "A value is trying to be set on a copy of a slice from a DataFrame.\n",
      "Try using .loc[row_indexer,col_indexer] = value instead\n",
      "\n",
      "See the caveats in the documentation: https://pandas.pydata.org/pandas-docs/stable/user_guide/indexing.html#returning-a-view-versus-a-copy\n",
      "  self.obj[key] = _infer_fill_value(value)\n",
      "/opt/anaconda3/envs/protein-inference/lib/python3.8/site-packages/pandas/core/indexing.py:1743: SettingWithCopyWarning: \n",
      "A value is trying to be set on a copy of a slice from a DataFrame.\n",
      "Try using .loc[row_indexer,col_indexer] = value instead\n",
      "\n",
      "See the caveats in the documentation: https://pandas.pydata.org/pandas-docs/stable/user_guide/indexing.html#returning-a-view-versus-a-copy\n",
      "  isetter(ilocs[0], value)\n"
     ]
    },
    {
     "name": "stdout",
     "output_type": "stream",
     "text": [
      "Writing Outputs...\n"
     ]
    }
   ],
   "source": [
    "# iPRG2015\n",
    "target_path = \"../example_data/IPRG2015/percolator.target.psms.txt\"\n",
    "decoy_path = \"../example_data/IPRG2015/percolator.decoy.psms.txt\"\n",
    "output_path = \"../example_data/IPRG2015/\"\n",
    "ProteinInferenceRunner().run(target_path, decoy_path, output_path)"
   ]
  },
  {
   "cell_type": "code",
   "execution_count": 4,
   "metadata": {},
   "outputs": [
    {
     "name": "stdout",
     "output_type": "stream",
     "text": [
      "Loading data...\n",
      "Scoring Decoys...\n"
     ]
    },
    {
     "ename": "KeyError",
     "evalue": "'q_value'",
     "output_type": "error",
     "traceback": [
      "\u001b[0;31m---------------------------------------------------------------------------\u001b[0m",
      "\u001b[0;31mKeyError\u001b[0m                                  Traceback (most recent call last)",
      "File \u001b[0;32m/opt/anaconda3/envs/protein-inference/lib/python3.8/site-packages/pandas/core/indexes/base.py:2895\u001b[0m, in \u001b[0;36mIndex.get_loc\u001b[0;34m(self, key, method, tolerance)\u001b[0m\n\u001b[1;32m   <a href='file:///opt/anaconda3/envs/protein-inference/lib/python3.8/site-packages/pandas/core/indexes/base.py?line=2893'>2894</a>\u001b[0m \u001b[39mtry\u001b[39;00m:\n\u001b[0;32m-> <a href='file:///opt/anaconda3/envs/protein-inference/lib/python3.8/site-packages/pandas/core/indexes/base.py?line=2894'>2895</a>\u001b[0m     \u001b[39mreturn\u001b[39;00m \u001b[39mself\u001b[39;49m\u001b[39m.\u001b[39;49m_engine\u001b[39m.\u001b[39;49mget_loc(casted_key)\n\u001b[1;32m   <a href='file:///opt/anaconda3/envs/protein-inference/lib/python3.8/site-packages/pandas/core/indexes/base.py?line=2895'>2896</a>\u001b[0m \u001b[39mexcept\u001b[39;00m \u001b[39mKeyError\u001b[39;00m \u001b[39mas\u001b[39;00m err:\n",
      "File \u001b[0;32mpandas/_libs/index.pyx:70\u001b[0m, in \u001b[0;36mpandas._libs.index.IndexEngine.get_loc\u001b[0;34m()\u001b[0m\n",
      "File \u001b[0;32mpandas/_libs/index.pyx:101\u001b[0m, in \u001b[0;36mpandas._libs.index.IndexEngine.get_loc\u001b[0;34m()\u001b[0m\n",
      "File \u001b[0;32mpandas/_libs/hashtable_class_helper.pxi:1675\u001b[0m, in \u001b[0;36mpandas._libs.hashtable.PyObjectHashTable.get_item\u001b[0;34m()\u001b[0m\n",
      "File \u001b[0;32mpandas/_libs/hashtable_class_helper.pxi:1683\u001b[0m, in \u001b[0;36mpandas._libs.hashtable.PyObjectHashTable.get_item\u001b[0;34m()\u001b[0m\n",
      "\u001b[0;31mKeyError\u001b[0m: 'q_value'",
      "\nThe above exception was the direct cause of the following exception:\n",
      "\u001b[0;31mKeyError\u001b[0m                                  Traceback (most recent call last)",
      "\u001b[1;32m/home/azureuser/github_repos/protein-inference/example_code/run_example_datasets.ipynb Cell 4'\u001b[0m in \u001b[0;36m<cell line: 5>\u001b[0;34m()\u001b[0m\n\u001b[1;32m      <a href='vscode-notebook-cell://ssh-remote%2B40.82.214.34/home/azureuser/github_repos/protein-inference/example_code/run_example_datasets.ipynb#ch0000003vscode-remote?line=2'>3</a>\u001b[0m decoy_path \u001b[39m=\u001b[39m \u001b[39m\"\u001b[39m\u001b[39m../example_data/IPRG2016/MixtureA/percolator.decoy.psms.txt\u001b[39m\u001b[39m\"\u001b[39m\n\u001b[1;32m      <a href='vscode-notebook-cell://ssh-remote%2B40.82.214.34/home/azureuser/github_repos/protein-inference/example_code/run_example_datasets.ipynb#ch0000003vscode-remote?line=3'>4</a>\u001b[0m output_path \u001b[39m=\u001b[39m \u001b[39m\"\u001b[39m\u001b[39m../example_data/IPRG2016/MixtureA/\u001b[39m\u001b[39m\"\u001b[39m\n\u001b[0;32m----> <a href='vscode-notebook-cell://ssh-remote%2B40.82.214.34/home/azureuser/github_repos/protein-inference/example_code/run_example_datasets.ipynb#ch0000003vscode-remote?line=4'>5</a>\u001b[0m ProteinInferenceRunner()\u001b[39m.\u001b[39;49mrun(target_path, decoy_path, output_path)\n\u001b[1;32m      <a href='vscode-notebook-cell://ssh-remote%2B40.82.214.34/home/azureuser/github_repos/protein-inference/example_code/run_example_datasets.ipynb#ch0000003vscode-remote?line=6'>7</a>\u001b[0m target_path \u001b[39m=\u001b[39m \u001b[39m\"\u001b[39m\u001b[39m../example_data/IPRG2016/MixtureB/percolator.target.psms.txt\u001b[39m\u001b[39m\"\u001b[39m\n\u001b[1;32m      <a href='vscode-notebook-cell://ssh-remote%2B40.82.214.34/home/azureuser/github_repos/protein-inference/example_code/run_example_datasets.ipynb#ch0000003vscode-remote?line=7'>8</a>\u001b[0m decoy_path \u001b[39m=\u001b[39m \u001b[39m\"\u001b[39m\u001b[39m../example_data/IPRG2016/MixtureB/percolator.decoy.psms.txt\u001b[39m\u001b[39m\"\u001b[39m\n",
      "File \u001b[0;32m/opt/anaconda3/envs/protein-inference/lib/python3.8/site-packages/protein_inference/protein_inference_runner.py:73\u001b[0m, in \u001b[0;36mProteinInferenceRunner.run\u001b[0;34m(self, target_path, decoy_path, output_directory, scoring_method, psms_q_value_threshold)\u001b[0m\n\u001b[1;32m     <a href='file:///opt/anaconda3/envs/protein-inference/lib/python3.8/site-packages/protein_inference/protein_inference_runner.py?line=69'>70</a>\u001b[0m decoy_psms \u001b[39m=\u001b[39m read_csv(decoy_path, sep\u001b[39m=\u001b[39m\u001b[39m\"\u001b[39m\u001b[39m\\t\u001b[39;00m\u001b[39m\"\u001b[39m)\n\u001b[1;32m     <a href='file:///opt/anaconda3/envs/protein-inference/lib/python3.8/site-packages/protein_inference/protein_inference_runner.py?line=71'>72</a>\u001b[0m \u001b[39mprint\u001b[39m(\u001b[39m\"\u001b[39m\u001b[39mScoring Decoys...\u001b[39m\u001b[39m\"\u001b[39m)\n\u001b[0;32m---> <a href='file:///opt/anaconda3/envs/protein-inference/lib/python3.8/site-packages/protein_inference/protein_inference_runner.py?line=72'>73</a>\u001b[0m decoy_output \u001b[39m=\u001b[39m \u001b[39mself\u001b[39;49m\u001b[39m.\u001b[39;49mget_output(\n\u001b[1;32m     <a href='file:///opt/anaconda3/envs/protein-inference/lib/python3.8/site-packages/protein_inference/protein_inference_runner.py?line=73'>74</a>\u001b[0m     decoy_psms, decoy\u001b[39m=\u001b[39;49m\u001b[39m1\u001b[39;49m, scoring_method\u001b[39m=\u001b[39;49mscoring_method,\n\u001b[1;32m     <a href='file:///opt/anaconda3/envs/protein-inference/lib/python3.8/site-packages/protein_inference/protein_inference_runner.py?line=74'>75</a>\u001b[0m     psms_q_value_threshold\u001b[39m=\u001b[39;49mpsms_q_value_threshold)\n\u001b[1;32m     <a href='file:///opt/anaconda3/envs/protein-inference/lib/python3.8/site-packages/protein_inference/protein_inference_runner.py?line=76'>77</a>\u001b[0m \u001b[39mprint\u001b[39m(\u001b[39m\"\u001b[39m\u001b[39mScoring Targets...\u001b[39m\u001b[39m\"\u001b[39m)\n\u001b[1;32m     <a href='file:///opt/anaconda3/envs/protein-inference/lib/python3.8/site-packages/protein_inference/protein_inference_runner.py?line=77'>78</a>\u001b[0m target_output \u001b[39m=\u001b[39m \u001b[39mself\u001b[39m\u001b[39m.\u001b[39mget_output(\n\u001b[1;32m     <a href='file:///opt/anaconda3/envs/protein-inference/lib/python3.8/site-packages/protein_inference/protein_inference_runner.py?line=78'>79</a>\u001b[0m     target_psms, scoring_method\u001b[39m=\u001b[39mscoring_method, \n\u001b[1;32m     <a href='file:///opt/anaconda3/envs/protein-inference/lib/python3.8/site-packages/protein_inference/protein_inference_runner.py?line=79'>80</a>\u001b[0m     psms_q_value_threshold\u001b[39m=\u001b[39mpsms_q_value_threshold)\n",
      "File \u001b[0;32m/opt/anaconda3/envs/protein-inference/lib/python3.8/site-packages/protein_inference/protein_inference_runner.py:143\u001b[0m, in \u001b[0;36mProteinInferenceRunner.get_output\u001b[0;34m(self, psms, decoy, scoring_method, psms_q_value_threshold)\u001b[0m\n\u001b[1;32m    <a href='file:///opt/anaconda3/envs/protein-inference/lib/python3.8/site-packages/protein_inference/protein_inference_runner.py?line=114'>115</a>\u001b[0m \u001b[39mdef\u001b[39;00m \u001b[39mget_output\u001b[39m(\u001b[39mself\u001b[39m, psms, decoy\u001b[39m=\u001b[39m\u001b[39m0\u001b[39m, scoring_method\u001b[39m=\u001b[39mGreedyAlgorithm, psms_q_value_threshold\u001b[39m=\u001b[39m\u001b[39m0.01\u001b[39m):\n\u001b[1;32m    <a href='file:///opt/anaconda3/envs/protein-inference/lib/python3.8/site-packages/protein_inference/protein_inference_runner.py?line=115'>116</a>\u001b[0m     \u001b[39m\"\"\"\u001b[39;00m\n\u001b[1;32m    <a href='file:///opt/anaconda3/envs/protein-inference/lib/python3.8/site-packages/protein_inference/protein_inference_runner.py?line=116'>117</a>\u001b[0m \u001b[39m    Processes either target or decoy data. \u001b[39;00m\n\u001b[1;32m    <a href='file:///opt/anaconda3/envs/protein-inference/lib/python3.8/site-packages/protein_inference/protein_inference_runner.py?line=117'>118</a>\u001b[0m \u001b[39m    \u001b[39;00m\n\u001b[0;32m   (...)\u001b[0m\n\u001b[1;32m    <a href='file:///opt/anaconda3/envs/protein-inference/lib/python3.8/site-packages/protein_inference/protein_inference_runner.py?line=140'>141</a>\u001b[0m \n\u001b[1;32m    <a href='file:///opt/anaconda3/envs/protein-inference/lib/python3.8/site-packages/protein_inference/protein_inference_runner.py?line=141'>142</a>\u001b[0m \u001b[39m    \"\"\"\u001b[39;00m\n\u001b[0;32m--> <a href='file:///opt/anaconda3/envs/protein-inference/lib/python3.8/site-packages/protein_inference/protein_inference_runner.py?line=142'>143</a>\u001b[0m     psms \u001b[39m=\u001b[39m PSMsPreprocessor(psms, decoy\u001b[39m=\u001b[39;49mdecoy)\u001b[39m.\u001b[39;49mget_processed_psms(psms_q_value_threshold)\n\u001b[1;32m    <a href='file:///opt/anaconda3/envs/protein-inference/lib/python3.8/site-packages/protein_inference/protein_inference_runner.py?line=143'>144</a>\u001b[0m     network \u001b[39m=\u001b[39m PSMsNetworkGenerator(psms)\u001b[39m.\u001b[39mgenerate_network()\n\u001b[1;32m    <a href='file:///opt/anaconda3/envs/protein-inference/lib/python3.8/site-packages/protein_inference/protein_inference_runner.py?line=144'>145</a>\u001b[0m     \u001b[39mdel\u001b[39;00m(psms)\n",
      "File \u001b[0;32m/opt/anaconda3/envs/protein-inference/lib/python3.8/site-packages/protein_inference/processing/psms_preprocessor.py:68\u001b[0m, in \u001b[0;36mPSMsPreprocessor.get_processed_psms\u001b[0;34m(self, q_value_threshold)\u001b[0m\n\u001b[1;32m     <a href='file:///opt/anaconda3/envs/protein-inference/lib/python3.8/site-packages/protein_inference/processing/psms_preprocessor.py?line=64'>65</a>\u001b[0m     df \u001b[39m=\u001b[39m df\u001b[39m.\u001b[39msort_values(\u001b[39m\"\u001b[39m\u001b[39mpercolator score\u001b[39m\u001b[39m\"\u001b[39m,\n\u001b[1;32m     <a href='file:///opt/anaconda3/envs/protein-inference/lib/python3.8/site-packages/protein_inference/processing/psms_preprocessor.py?line=65'>66</a>\u001b[0m                         ascending\u001b[39m=\u001b[39m\u001b[39mTrue\u001b[39;00m)\u001b[39m.\u001b[39mhead(\u001b[39mself\u001b[39m\u001b[39m.\u001b[39mpartial)  \n\u001b[1;32m     <a href='file:///opt/anaconda3/envs/protein-inference/lib/python3.8/site-packages/protein_inference/processing/psms_preprocessor.py?line=66'>67</a>\u001b[0m df \u001b[39m=\u001b[39m \u001b[39mself\u001b[39m\u001b[39m.\u001b[39m_preprocess_column_names(df)                \n\u001b[0;32m---> <a href='file:///opt/anaconda3/envs/protein-inference/lib/python3.8/site-packages/protein_inference/processing/psms_preprocessor.py?line=67'>68</a>\u001b[0m df \u001b[39m=\u001b[39m \u001b[39mself\u001b[39;49m\u001b[39m.\u001b[39;49m_preprocess_q_value(df, q_value_threshold)\n\u001b[1;32m     <a href='file:///opt/anaconda3/envs/protein-inference/lib/python3.8/site-packages/protein_inference/processing/psms_preprocessor.py?line=68'>69</a>\u001b[0m df \u001b[39m=\u001b[39m \u001b[39mself\u001b[39m\u001b[39m.\u001b[39m_preprocess_columns(df)\n\u001b[1;32m     <a href='file:///opt/anaconda3/envs/protein-inference/lib/python3.8/site-packages/protein_inference/processing/psms_preprocessor.py?line=69'>70</a>\u001b[0m df \u001b[39m=\u001b[39m \u001b[39mself\u001b[39m\u001b[39m.\u001b[39m_preprocess_duplicates(df)\n",
      "File \u001b[0;32m/opt/anaconda3/envs/protein-inference/lib/python3.8/site-packages/protein_inference/processing/psms_preprocessor.py:80\u001b[0m, in \u001b[0;36mPSMsPreprocessor._preprocess_q_value\u001b[0;34m(self, df, q_value_threshold)\u001b[0m\n\u001b[1;32m     <a href='file:///opt/anaconda3/envs/protein-inference/lib/python3.8/site-packages/protein_inference/processing/psms_preprocessor.py?line=78'>79</a>\u001b[0m \u001b[39mdef\u001b[39;00m \u001b[39m_preprocess_q_value\u001b[39m(\u001b[39mself\u001b[39m, df, q_value_threshold):\n\u001b[0;32m---> <a href='file:///opt/anaconda3/envs/protein-inference/lib/python3.8/site-packages/protein_inference/processing/psms_preprocessor.py?line=79'>80</a>\u001b[0m     \u001b[39mreturn\u001b[39;00m df[df[\u001b[39m\"\u001b[39;49m\u001b[39mq_value\u001b[39;49m\u001b[39m\"\u001b[39;49m] \u001b[39m<\u001b[39m\u001b[39m=\u001b[39m q_value_threshold]\n",
      "File \u001b[0;32m/opt/anaconda3/envs/protein-inference/lib/python3.8/site-packages/pandas/core/frame.py:2906\u001b[0m, in \u001b[0;36mDataFrame.__getitem__\u001b[0;34m(self, key)\u001b[0m\n\u001b[1;32m   <a href='file:///opt/anaconda3/envs/protein-inference/lib/python3.8/site-packages/pandas/core/frame.py?line=2903'>2904</a>\u001b[0m \u001b[39mif\u001b[39;00m \u001b[39mself\u001b[39m\u001b[39m.\u001b[39mcolumns\u001b[39m.\u001b[39mnlevels \u001b[39m>\u001b[39m \u001b[39m1\u001b[39m:\n\u001b[1;32m   <a href='file:///opt/anaconda3/envs/protein-inference/lib/python3.8/site-packages/pandas/core/frame.py?line=2904'>2905</a>\u001b[0m     \u001b[39mreturn\u001b[39;00m \u001b[39mself\u001b[39m\u001b[39m.\u001b[39m_getitem_multilevel(key)\n\u001b[0;32m-> <a href='file:///opt/anaconda3/envs/protein-inference/lib/python3.8/site-packages/pandas/core/frame.py?line=2905'>2906</a>\u001b[0m indexer \u001b[39m=\u001b[39m \u001b[39mself\u001b[39;49m\u001b[39m.\u001b[39;49mcolumns\u001b[39m.\u001b[39;49mget_loc(key)\n\u001b[1;32m   <a href='file:///opt/anaconda3/envs/protein-inference/lib/python3.8/site-packages/pandas/core/frame.py?line=2906'>2907</a>\u001b[0m \u001b[39mif\u001b[39;00m is_integer(indexer):\n\u001b[1;32m   <a href='file:///opt/anaconda3/envs/protein-inference/lib/python3.8/site-packages/pandas/core/frame.py?line=2907'>2908</a>\u001b[0m     indexer \u001b[39m=\u001b[39m [indexer]\n",
      "File \u001b[0;32m/opt/anaconda3/envs/protein-inference/lib/python3.8/site-packages/pandas/core/indexes/base.py:2897\u001b[0m, in \u001b[0;36mIndex.get_loc\u001b[0;34m(self, key, method, tolerance)\u001b[0m\n\u001b[1;32m   <a href='file:///opt/anaconda3/envs/protein-inference/lib/python3.8/site-packages/pandas/core/indexes/base.py?line=2894'>2895</a>\u001b[0m         \u001b[39mreturn\u001b[39;00m \u001b[39mself\u001b[39m\u001b[39m.\u001b[39m_engine\u001b[39m.\u001b[39mget_loc(casted_key)\n\u001b[1;32m   <a href='file:///opt/anaconda3/envs/protein-inference/lib/python3.8/site-packages/pandas/core/indexes/base.py?line=2895'>2896</a>\u001b[0m     \u001b[39mexcept\u001b[39;00m \u001b[39mKeyError\u001b[39;00m \u001b[39mas\u001b[39;00m err:\n\u001b[0;32m-> <a href='file:///opt/anaconda3/envs/protein-inference/lib/python3.8/site-packages/pandas/core/indexes/base.py?line=2896'>2897</a>\u001b[0m         \u001b[39mraise\u001b[39;00m \u001b[39mKeyError\u001b[39;00m(key) \u001b[39mfrom\u001b[39;00m \u001b[39merr\u001b[39;00m\n\u001b[1;32m   <a href='file:///opt/anaconda3/envs/protein-inference/lib/python3.8/site-packages/pandas/core/indexes/base.py?line=2898'>2899</a>\u001b[0m \u001b[39mif\u001b[39;00m tolerance \u001b[39mis\u001b[39;00m \u001b[39mnot\u001b[39;00m \u001b[39mNone\u001b[39;00m:\n\u001b[1;32m   <a href='file:///opt/anaconda3/envs/protein-inference/lib/python3.8/site-packages/pandas/core/indexes/base.py?line=2899'>2900</a>\u001b[0m     tolerance \u001b[39m=\u001b[39m \u001b[39mself\u001b[39m\u001b[39m.\u001b[39m_convert_tolerance(tolerance, np\u001b[39m.\u001b[39masarray(key))\n",
      "\u001b[0;31mKeyError\u001b[0m: 'q_value'"
     ]
    }
   ],
   "source": [
    "# iPRG2016 Sample AB\n",
    "target_path = \"../example_data/IPRG2016/MixtureAB/percolator.target.psms.txt\"\n",
    "decoy_path = \"../example_data/IPRG2016/MixtureAB/percolator.decoy.psms.txt\"\n",
    "output_path = \"../example_data/IPRG2016/MixtureAB/\"\n",
    "ProteinInferenceRunner().run(target_path, decoy_path, output_path)"
   ]
  },
  {
   "cell_type": "code",
   "execution_count": null,
   "metadata": {},
   "outputs": [],
   "source": []
  }
 ],
 "metadata": {
  "interpreter": {
   "hash": "38094a88bf3b91aba7d9a4e1722407f50cd2af97eeb36fdfa4896944b64491fe"
  },
  "kernelspec": {
   "display_name": "Python 3.8.13 ('protein-inference')",
   "language": "python",
   "name": "python3"
  },
  "language_info": {
   "codemirror_mode": {
    "name": "ipython",
    "version": 3
   },
   "file_extension": ".py",
   "mimetype": "text/x-python",
   "name": "python",
   "nbconvert_exporter": "python",
   "pygments_lexer": "ipython3",
   "version": "3.8.13"
  },
  "orig_nbformat": 2
 },
 "nbformat": 4,
 "nbformat_minor": 2
}
