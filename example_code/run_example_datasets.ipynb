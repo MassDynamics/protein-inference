{
 "metadata": {
  "language_info": {
   "codemirror_mode": {
    "name": "ipython",
    "version": 3
   },
   "file_extension": ".py",
   "mimetype": "text/x-python",
   "name": "python",
   "nbconvert_exporter": "python",
   "pygments_lexer": "ipython3",
   "version": "3.7.7-final"
  },
  "orig_nbformat": 2,
  "kernelspec": {
   "name": "python3",
   "display_name": "Python 3.7.7 64-bit ('protein_inference': conda)",
   "metadata": {
    "interpreter": {
     "hash": "f10d148d34047a203152a525cd20a2855a9207f7f88e68b20e0addb77d34849f"
    }
   }
  }
 },
 "nbformat": 4,
 "nbformat_minor": 2,
 "cells": [
  {
   "source": [
    "# Running REPRISAL on iPRG2015 and iPRG2016 Datasets"
   ],
   "cell_type": "markdown",
   "metadata": {}
  },
  {
   "cell_type": "code",
   "execution_count": 1,
   "metadata": {},
   "outputs": [],
   "source": [
    "from protein_inference.protein_inference_runner import ProteinInferenceRunner"
   ]
  },
  {
   "cell_type": "code",
   "execution_count": 2,
   "metadata": {},
   "outputs": [
    {
     "output_type": "stream",
     "name": "stdout",
     "text": [
      "Loading data...\n",
      "Scoring Decoys...\n",
      "Scoring Targets...\n",
      "Estimating False Discovery Rates...\n",
      "Writing Outputs...\n"
     ]
    }
   ],
   "source": [
    "# iPRG2015\n",
    "target_path = \"../example_data/IPRG2015/percolator.target.psms.txt\"\n",
    "decoy_path = \"../example_data/IPRG2015/percolator.decoy.psms.txt\"\n",
    "output_path = \"../example_data/IPRG2015/\"\n",
    "ProteinInferenceRunner().run(target_path, decoy_path, output_path)"
   ]
  },
  {
   "cell_type": "code",
   "execution_count": null,
   "metadata": {},
   "outputs": [],
   "source": [
    "# iPRG2016\n",
    "target_path = \"../example_data/IPRG2016/MixtureA/percolator.target.psms.txt\"\n",
    "decoy_path = \"../example_data/IPRG2016/MixtureA/percolator.decoy.psms.txt\"\n",
    "output_path = \"../example_data/IPRG2016/MixtureA/\"\n",
    "ProteinInferenceRunner().run(target_path, decoy_path, output_path)\n",
    "\n",
    "target_path = \"../example_data/IPRG2016/MixtureB/percolator.target.psms.txt\"\n",
    "decoy_path = \"../example_data/IPRG2016/MixtureB/percolator.decoy.psms.txt\"\n",
    "output_path = \"../example_data/IPRG2016/MixtureB/\"\n",
    "ProteinInferenceRunner().run(target_path, decoy_path, output_path)\n",
    "\n",
    "target_path = \"../example_data/IPRG2016/MixtureAB/percolator.target.psms.txt\"\n",
    "decoy_path = \"../example_data/IPRG2016/MixtureAB/percolator.decoy.psms.txt\"\n",
    "output_path = \"../example_data/IPRG2016/MixtureAB/\"\n",
    "ProteinInferenceRunner().run(target_path, decoy_path, output_path)"
   ]
  }
 ]
}